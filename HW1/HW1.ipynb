{
 "cells": [
  {
   "cell_type": "markdown",
   "id": "64f5ad42",
   "metadata": {},
   "source": [
    "## Question 2"
   ]
  },
  {
   "cell_type": "code",
   "execution_count": 1,
   "id": "b41377ec",
   "metadata": {},
   "outputs": [],
   "source": [
    "import numpy as np\n",
    "import pandas as pd\n",
    "import matplotlib.pyplot as plt\n",
    "from bs4 import BeautifulSoup\n",
    "import urllib.request"
   ]
  },
  {
   "cell_type": "markdown",
   "id": "edb6d273",
   "metadata": {},
   "source": [
    "Part 1"
   ]
  },
  {
   "cell_type": "code",
   "execution_count": 2,
   "id": "133db8f8",
   "metadata": {},
   "outputs": [
    {
     "name": "stdout",
     "output_type": "stream",
     "text": [
      "['https://books.toscrape.com/catalogue/category/books/music_14/index.html', 'https://books.toscrape.com/catalogue/category/books/sports-and-games_17/index.html', 'https://books.toscrape.com/catalogue/category/books/travel_2/index.html', 'https://books.toscrape.com/catalogue/category/books/history_32/index.html', 'https://books.toscrape.com/catalogue/category/books/science_22/index.html']\n"
     ]
    }
   ],
   "source": [
    "categories = [\"music\", \"sports and games\", \"history\", \"science\"]\n",
    "subsections = [\"music_14\", \"sports-and-games_17\", \n",
    "               \"travel_2\", \"history_32\", \"science_22\"]\n",
    "urls = [\"https://books.toscrape.com/catalogue/category/books/\" + section + \"/index.html\" for section in subsections]\n",
    "print(urls)"
   ]
  },
  {
   "cell_type": "markdown",
   "id": "378806af",
   "metadata": {},
   "source": [
    "You need to select five of your favorite categories and scrape the full name of books, categories, book ratings, and prices. Finally, store the scraped four variables into one .csv file. \n",
    "\n",
    "There are 46 entries when looking at the following categories: \"music\", \"sports and games\", \"history\", \"science\""
   ]
  },
  {
   "cell_type": "code",
   "execution_count": 3,
   "id": "c83ba943",
   "metadata": {},
   "outputs": [
    {
     "data": {
      "text/html": [
       "<div>\n",
       "<style scoped>\n",
       "    .dataframe tbody tr th:only-of-type {\n",
       "        vertical-align: middle;\n",
       "    }\n",
       "\n",
       "    .dataframe tbody tr th {\n",
       "        vertical-align: top;\n",
       "    }\n",
       "\n",
       "    .dataframe thead th {\n",
       "        text-align: right;\n",
       "    }\n",
       "</style>\n",
       "<table border=\"1\" class=\"dataframe\">\n",
       "  <thead>\n",
       "    <tr style=\"text-align: right;\">\n",
       "      <th></th>\n",
       "      <th>Title</th>\n",
       "      <th>Category</th>\n",
       "      <th>Rating</th>\n",
       "      <th>Price</th>\n",
       "    </tr>\n",
       "  </thead>\n",
       "  <tbody>\n",
       "    <tr>\n",
       "      <th>0</th>\n",
       "      <td>Rip it Up and Start Again</td>\n",
       "      <td>music</td>\n",
       "      <td>5</td>\n",
       "      <td>35.02</td>\n",
       "    </tr>\n",
       "    <tr>\n",
       "      <th>1</th>\n",
       "      <td>Our Band Could Be Your Life: Scenes from the A...</td>\n",
       "      <td>music</td>\n",
       "      <td>3</td>\n",
       "      <td>57.25</td>\n",
       "    </tr>\n",
       "    <tr>\n",
       "      <th>2</th>\n",
       "      <td>How Music Works</td>\n",
       "      <td>music</td>\n",
       "      <td>2</td>\n",
       "      <td>37.32</td>\n",
       "    </tr>\n",
       "    <tr>\n",
       "      <th>3</th>\n",
       "      <td>Love Is a Mix Tape (Music #1)</td>\n",
       "      <td>music</td>\n",
       "      <td>1</td>\n",
       "      <td>18.03</td>\n",
       "    </tr>\n",
       "    <tr>\n",
       "      <th>4</th>\n",
       "      <td>Please Kill Me: The Uncensored Oral History of...</td>\n",
       "      <td>music</td>\n",
       "      <td>4</td>\n",
       "      <td>31.19</td>\n",
       "    </tr>\n",
       "    <tr>\n",
       "      <th>5</th>\n",
       "      <td>Kill 'Em and Leave: Searching for James Brown ...</td>\n",
       "      <td>music</td>\n",
       "      <td>5</td>\n",
       "      <td>45.05</td>\n",
       "    </tr>\n",
       "    <tr>\n",
       "      <th>6</th>\n",
       "      <td>Chronicles, Vol. 1</td>\n",
       "      <td>music</td>\n",
       "      <td>2</td>\n",
       "      <td>52.60</td>\n",
       "    </tr>\n",
       "    <tr>\n",
       "      <th>7</th>\n",
       "      <td>This Is Your Brain on Music: The Science of a ...</td>\n",
       "      <td>music</td>\n",
       "      <td>1</td>\n",
       "      <td>38.40</td>\n",
       "    </tr>\n",
       "    <tr>\n",
       "      <th>8</th>\n",
       "      <td>Orchestra of Exiles: The Story of Bronislaw Hu...</td>\n",
       "      <td>music</td>\n",
       "      <td>3</td>\n",
       "      <td>12.36</td>\n",
       "    </tr>\n",
       "    <tr>\n",
       "      <th>9</th>\n",
       "      <td>No One Here Gets Out Alive</td>\n",
       "      <td>music</td>\n",
       "      <td>5</td>\n",
       "      <td>20.02</td>\n",
       "    </tr>\n",
       "  </tbody>\n",
       "</table>\n",
       "</div>"
      ],
      "text/plain": [
       "                                               Title Category  Rating  Price\n",
       "0                          Rip it Up and Start Again    music       5  35.02\n",
       "1  Our Band Could Be Your Life: Scenes from the A...    music       3  57.25\n",
       "2                                    How Music Works    music       2  37.32\n",
       "3                      Love Is a Mix Tape (Music #1)    music       1  18.03\n",
       "4  Please Kill Me: The Uncensored Oral History of...    music       4  31.19\n",
       "5  Kill 'Em and Leave: Searching for James Brown ...    music       5  45.05\n",
       "6                                 Chronicles, Vol. 1    music       2  52.60\n",
       "7  This Is Your Brain on Music: The Science of a ...    music       1  38.40\n",
       "8  Orchestra of Exiles: The Story of Bronislaw Hu...    music       3  12.36\n",
       "9                         No One Here Gets Out Alive    music       5  20.02"
      ]
     },
     "execution_count": 3,
     "metadata": {},
     "output_type": "execute_result"
    }
   ],
   "source": [
    "\n",
    "df = pd.DataFrame(columns = [\"Title\",\n",
    "                \"Category\",\n",
    "                \"Rating\",\n",
    "                \"Price\"])  # Initially empty DataFrame\n",
    "for url, category in zip(urls, categories):\n",
    "    response = urllib.request.urlopen(url)\n",
    "    html_content = response.read()\n",
    "\n",
    "    soup = BeautifulSoup(html_content, \"html.parser\")\n",
    "\n",
    "    books = soup.find_all(\"li\", class_=\"col-xs-6 col-sm-4 col-md-3 col-lg-3\")\n",
    "\n",
    "\n",
    "    for book in books: \n",
    "        title = book.find(\"h3\").find(\"a\").get(\"title\")\n",
    "        rating = book.find(\"p\", class_ = \"star-rating\").get(\"class\")[1]\n",
    "        price = float(book.find(\"p\" , class_ =\"price_color\").get_text()[1:])\n",
    "\n",
    "        data = {\"Title\": title,\n",
    "                \"Category\": category,\n",
    "                \"Rating\": rating,\n",
    "                \"Price\": price}\n",
    "        df = pd.concat([df, pd.DataFrame(data, index = [0])], ignore_index=True)\n",
    "df[\"Rating\"] = df[\"Rating\"].map({\"One\": 1, \"Two\": 2, \"Three\": 3, \"Four\": 4, \"Five\": 5})\n",
    "df.head(10)"
   ]
  },
  {
   "cell_type": "markdown",
   "id": "f5840b39",
   "metadata": {},
   "source": [
    "Part 2.1"
   ]
  },
  {
   "cell_type": "code",
   "execution_count": 4,
   "id": "5e759b3f",
   "metadata": {},
   "outputs": [
    {
     "data": {
      "image/png": "[encoded data removed]",
      "text/plain": [
       "<Figure size 640x480 with 1 Axes>"
      ]
     },
     "metadata": {},
     "output_type": "display_data"
    }
   ],
   "source": [
    "mean_rating = []\n",
    "for category in categories:\n",
    "\n",
    "    mean_rating.append(df[(df[\"Category\"] == category)]['Rating'].values.mean())\n",
    "    \n",
    "plt.figure()\n",
    "plt.bar(categories, mean_rating)\n",
    "plt.ylim([0, 5])\n",
    "plt.ylabel('Average Rating')\n",
    "\n",
    "plt.title('Average Rating per Book Category')\n",
    "plt.show()"
   ]
  },
  {
   "cell_type": "markdown",
   "id": "7000da1d",
   "metadata": {},
   "source": [
    "Part 2.2"
   ]
  },
  {
   "cell_type": "code",
   "execution_count": 5,
   "id": "1ac74072",
   "metadata": {},
   "outputs": [
    {
     "data": {
      "image/png": "[encoded data removed]",
      "text/plain": [
       "<Figure size 640x480 with 1 Axes>"
      ]
     },
     "metadata": {},
     "output_type": "display_data"
    }
   ],
   "source": [
    "mean_rating = []\n",
    "for category in categories:\n",
    "\n",
    "    mean_rating.append(df[(df[\"Category\"] == category)]['Price'].values.mean())\n",
    "    \n",
    "plt.figure()\n",
    "plt.bar(categories, mean_rating)\n",
    "plt.ylabel('Average Price (£)')\n",
    "plt.title('Average Price per Book Category')\n",
    "\n",
    "plt.show()"
   ]
  }
 ],
 "metadata": {
  "kernelspec": {
   "display_name": "Python 3 (ipykernel)",
   "language": "python",
   "name": "python3"
  },
  "language_info": {
   "codemirror_mode": {
    "name": "ipython",
    "version": 3
   },
   "file_extension": ".py",
   "mimetype": "text/x-python",
   "name": "python",
   "nbconvert_exporter": "python",
   "pygments_lexer": "ipython3",
   "version": "3.9.13"
  }
 },
 "nbformat": 4,
 "nbformat_minor": 5
}
